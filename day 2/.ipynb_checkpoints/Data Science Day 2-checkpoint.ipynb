{
 "cells": [
  {
   "cell_type": "code",
   "execution_count": 34,
   "metadata": {},
   "outputs": [],
   "source": [
    "# Использовать датасет из эфира (будет выложен в ТГ)\n",
    "# Использовать random_state=42\n",
    "# 1. Документция по Sklearn https://scikit-learn.org/stable/modules/classes.html\n",
    "# 2. Подобрать параметры MLPRegressor, добиться MAE (mean_absolute_error) меньше чем в эфире 0.924\n",
    "# 3. Выбрать из sklearn 4 (четыре) других модели регресии \n",
    "# (...Regressor, модели которые мы еще НЕ испольовали), \n",
    "# и добиться на них наименьшей ошибки. \n",
    "\n",
    "# Критерием оценки ДЗ НЕ ЯВЛЯЕТСЯ самая минимальная ошибки.\n",
    "# 4. Оформить свой результат в виде HTML файла (Меню File -> Download as -> HTML), \n",
    "# в файле должно быть\n",
    "# — Комментарии к коду, что вы делаете в этом коде и зачем\n",
    "# — Графики (https://matplotlib.org/gallery/index.html)\n",
    "# — В отчете должны быть выводы\n",
    "\n",
    "# Дз нужно прислать до 18:00 МСК завтра(ВС), что бы мы успели все проверить\n",
    "# Ссылка куда прислать будет в ТГ"
   ]
  },
  {
   "cell_type": "code",
   "execution_count": 2,
   "metadata": {},
   "outputs": [],
   "source": [
    "import pandas # импорт библиотеки"
   ]
  },
  {
   "cell_type": "code",
   "execution_count": 3,
   "metadata": {},
   "outputs": [],
   "source": [
    "usd_rate = pandas.read_excel(\"usd_rate.xlsx\") # импорт файла"
   ]
  },
  {
   "cell_type": "code",
   "execution_count": 4,
   "metadata": {},
   "outputs": [],
   "source": [
    "curs = usd_rate.curs # выгрузка колонки в файл"
   ]
  },
  {
   "cell_type": "code",
   "execution_count": 5,
   "metadata": {},
   "outputs": [],
   "source": [
    "future = 7 # переменная количесвто элементов предсказания"
   ]
  },
  {
   "cell_type": "code",
   "execution_count": 6,
   "metadata": {},
   "outputs": [],
   "source": [
    "past = 14 # переменная количество элементов основы"
   ]
  },
  {
   "cell_type": "code",
   "execution_count": 7,
   "metadata": {},
   "outputs": [
    {
     "data": {
      "text/plain": [
       "<matplotlib.axes._subplots.AxesSubplot at 0x110da1c90>"
      ]
     },
     "execution_count": 7,
     "metadata": {},
     "output_type": "execute_result"
    },
    {
     "data": {
      "image/png": "[encoded data removed]",
      "text/plain": [
       "<Figure size 432x288 with 1 Axes>"
      ]
     },
     "metadata": {
      "needs_background": "light"
     },
     "output_type": "display_data"
    }
   ],
   "source": [
    "curs.plot() #просто построили график"
   ]
  },
  {
   "cell_type": "code",
   "execution_count": 8,
   "metadata": {},
   "outputs": [],
   "source": [
    "start = past # определили первый элемент\n",
    "end = len(curs) - future # определили последний элемент"
   ]
  },
  {
   "cell_type": "code",
   "execution_count": 9,
   "metadata": {},
   "outputs": [
    {
     "name": "stdout",
     "output_type": "stream",
     "text": [
      "14 734 720\n"
     ]
    }
   ],
   "source": [
    "print(start, end, end-start) # посмотрели на них"
   ]
  },
  {
   "cell_type": "code",
   "execution_count": 10,
   "metadata": {},
   "outputs": [],
   "source": [
    "raw_df = [] # пустой массив"
   ]
  },
  {
   "cell_type": "code",
   "execution_count": 11,
   "metadata": {},
   "outputs": [],
   "source": [
    "for day in range(start, end): # каждый от старта до окончания\n",
    "    slc = curs[(day-past):(day+future)] # выбрали диапазон\n",
    "    raw_df.append(list(slc)) # поместили в массив"
   ]
  },
  {
   "cell_type": "code",
   "execution_count": 13,
   "metadata": {},
   "outputs": [
    {
     "data": {
      "text/plain": [
       "['past_0',\n",
       " 'past_1',\n",
       " 'past_2',\n",
       " 'past_3',\n",
       " 'past_4',\n",
       " 'past_5',\n",
       " 'past_6',\n",
       " 'past_7',\n",
       " 'past_8',\n",
       " 'past_9',\n",
       " 'past_10',\n",
       " 'past_11',\n",
       " 'past_12',\n",
       " 'past_13']"
      ]
     },
     "execution_count": 13,
     "metadata": {},
     "output_type": "execute_result"
    }
   ],
   "source": [
    "past_columns = [] # пустой массив, для опрееделени колонок\n",
    "for i in range(past): \n",
    "    past_columns.append(f\"past_{i}\")\n",
    "past_columns"
   ]
  },
  {
   "cell_type": "code",
   "execution_count": 14,
   "metadata": {},
   "outputs": [
    {
     "data": {
      "text/plain": [
       "['future_0',\n",
       " 'future_1',\n",
       " 'future_2',\n",
       " 'future_3',\n",
       " 'future_4',\n",
       " 'future_5',\n",
       " 'future_6']"
      ]
     },
     "execution_count": 14,
     "metadata": {},
     "output_type": "execute_result"
    }
   ],
   "source": [
    "future_columns = [] # для колонок\n",
    "for i in range(future):\n",
    "    future_columns.append(f\"future_{i}\")\n",
    "future_columns"
   ]
  },
  {
   "cell_type": "code",
   "execution_count": 15,
   "metadata": {},
   "outputs": [],
   "source": [
    "df = pandas.DataFrame(data=raw_df, columns=(past_columns+future_columns)) \n",
    "# создали таблицу \n",
    "# Значения в которой массив с данными\n",
    "# а колонки собрали из массива свыше"
   ]
  },
  {
   "cell_type": "code",
   "execution_count": 16,
   "metadata": {},
   "outputs": [
    {
     "data": {
      "text/html": [
       "<div>\n",
       "<style scoped>\n",
       "    .dataframe tbody tr th:only-of-type {\n",
       "        vertical-align: middle;\n",
       "    }\n",
       "\n",
       "    .dataframe tbody tr th {\n",
       "        vertical-align: top;\n",
       "    }\n",
       "\n",
       "    .dataframe thead th {\n",
       "        text-align: right;\n",
       "    }\n",
       "</style>\n",
       "<table border=\"1\" class=\"dataframe\">\n",
       "  <thead>\n",
       "    <tr style=\"text-align: right;\">\n",
       "      <th></th>\n",
       "      <th>past_0</th>\n",
       "      <th>past_1</th>\n",
       "      <th>past_2</th>\n",
       "      <th>past_3</th>\n",
       "      <th>past_4</th>\n",
       "      <th>past_5</th>\n",
       "      <th>past_6</th>\n",
       "      <th>past_7</th>\n",
       "      <th>past_8</th>\n",
       "      <th>past_9</th>\n",
       "      <th>...</th>\n",
       "      <th>past_11</th>\n",
       "      <th>past_12</th>\n",
       "      <th>past_13</th>\n",
       "      <th>future_0</th>\n",
       "      <th>future_1</th>\n",
       "      <th>future_2</th>\n",
       "      <th>future_3</th>\n",
       "      <th>future_4</th>\n",
       "      <th>future_5</th>\n",
       "      <th>future_6</th>\n",
       "    </tr>\n",
       "  </thead>\n",
       "  <tbody>\n",
       "    <tr>\n",
       "      <th>0</th>\n",
       "      <td>59.8961</td>\n",
       "      <td>59.9533</td>\n",
       "      <td>60.1614</td>\n",
       "      <td>59.4978</td>\n",
       "      <td>59.3700</td>\n",
       "      <td>59.6067</td>\n",
       "      <td>59.4015</td>\n",
       "      <td>59.1830</td>\n",
       "      <td>59.3521</td>\n",
       "      <td>59.6697</td>\n",
       "      <td>...</td>\n",
       "      <td>59.2168</td>\n",
       "      <td>59.1489</td>\n",
       "      <td>59.6356</td>\n",
       "      <td>60.3196</td>\n",
       "      <td>60.1618</td>\n",
       "      <td>60.0851</td>\n",
       "      <td>60.3099</td>\n",
       "      <td>59.9858</td>\n",
       "      <td>59.3137</td>\n",
       "      <td>58.7121</td>\n",
       "    </tr>\n",
       "    <tr>\n",
       "      <th>1</th>\n",
       "      <td>59.9533</td>\n",
       "      <td>60.1614</td>\n",
       "      <td>59.4978</td>\n",
       "      <td>59.3700</td>\n",
       "      <td>59.6067</td>\n",
       "      <td>59.4015</td>\n",
       "      <td>59.1830</td>\n",
       "      <td>59.3521</td>\n",
       "      <td>59.6697</td>\n",
       "      <td>59.5034</td>\n",
       "      <td>...</td>\n",
       "      <td>59.1489</td>\n",
       "      <td>59.6356</td>\n",
       "      <td>60.3196</td>\n",
       "      <td>60.1618</td>\n",
       "      <td>60.0851</td>\n",
       "      <td>60.3099</td>\n",
       "      <td>59.9858</td>\n",
       "      <td>59.3137</td>\n",
       "      <td>58.7121</td>\n",
       "      <td>59.1933</td>\n",
       "    </tr>\n",
       "    <tr>\n",
       "      <th>2</th>\n",
       "      <td>60.1614</td>\n",
       "      <td>59.4978</td>\n",
       "      <td>59.3700</td>\n",
       "      <td>59.6067</td>\n",
       "      <td>59.4015</td>\n",
       "      <td>59.1830</td>\n",
       "      <td>59.3521</td>\n",
       "      <td>59.6697</td>\n",
       "      <td>59.5034</td>\n",
       "      <td>59.2168</td>\n",
       "      <td>...</td>\n",
       "      <td>59.6356</td>\n",
       "      <td>60.3196</td>\n",
       "      <td>60.1618</td>\n",
       "      <td>60.0851</td>\n",
       "      <td>60.3099</td>\n",
       "      <td>59.9858</td>\n",
       "      <td>59.3137</td>\n",
       "      <td>58.7121</td>\n",
       "      <td>59.1933</td>\n",
       "      <td>59.5129</td>\n",
       "    </tr>\n",
       "    <tr>\n",
       "      <th>3</th>\n",
       "      <td>59.4978</td>\n",
       "      <td>59.3700</td>\n",
       "      <td>59.6067</td>\n",
       "      <td>59.4015</td>\n",
       "      <td>59.1830</td>\n",
       "      <td>59.3521</td>\n",
       "      <td>59.6697</td>\n",
       "      <td>59.5034</td>\n",
       "      <td>59.2168</td>\n",
       "      <td>59.1489</td>\n",
       "      <td>...</td>\n",
       "      <td>60.3196</td>\n",
       "      <td>60.1618</td>\n",
       "      <td>60.0851</td>\n",
       "      <td>60.3099</td>\n",
       "      <td>59.9858</td>\n",
       "      <td>59.3137</td>\n",
       "      <td>58.7121</td>\n",
       "      <td>59.1933</td>\n",
       "      <td>59.5129</td>\n",
       "      <td>59.0235</td>\n",
       "    </tr>\n",
       "    <tr>\n",
       "      <th>4</th>\n",
       "      <td>59.3700</td>\n",
       "      <td>59.6067</td>\n",
       "      <td>59.4015</td>\n",
       "      <td>59.1830</td>\n",
       "      <td>59.3521</td>\n",
       "      <td>59.6697</td>\n",
       "      <td>59.5034</td>\n",
       "      <td>59.2168</td>\n",
       "      <td>59.1489</td>\n",
       "      <td>59.6356</td>\n",
       "      <td>...</td>\n",
       "      <td>60.1618</td>\n",
       "      <td>60.0851</td>\n",
       "      <td>60.3099</td>\n",
       "      <td>59.9858</td>\n",
       "      <td>59.3137</td>\n",
       "      <td>58.7121</td>\n",
       "      <td>59.1933</td>\n",
       "      <td>59.5129</td>\n",
       "      <td>59.0235</td>\n",
       "      <td>58.8457</td>\n",
       "    </tr>\n",
       "    <tr>\n",
       "      <th>...</th>\n",
       "      <td>...</td>\n",
       "      <td>...</td>\n",
       "      <td>...</td>\n",
       "      <td>...</td>\n",
       "      <td>...</td>\n",
       "      <td>...</td>\n",
       "      <td>...</td>\n",
       "      <td>...</td>\n",
       "      <td>...</td>\n",
       "      <td>...</td>\n",
       "      <td>...</td>\n",
       "      <td>...</td>\n",
       "      <td>...</td>\n",
       "      <td>...</td>\n",
       "      <td>...</td>\n",
       "      <td>...</td>\n",
       "      <td>...</td>\n",
       "      <td>...</td>\n",
       "      <td>...</td>\n",
       "      <td>...</td>\n",
       "      <td>...</td>\n",
       "    </tr>\n",
       "    <tr>\n",
       "      <th>715</th>\n",
       "      <td>64.0239</td>\n",
       "      <td>63.9722</td>\n",
       "      <td>64.1005</td>\n",
       "      <td>64.0817</td>\n",
       "      <td>64.4097</td>\n",
       "      <td>64.1401</td>\n",
       "      <td>64.1948</td>\n",
       "      <td>63.8135</td>\n",
       "      <td>63.7185</td>\n",
       "      <td>63.7244</td>\n",
       "      <td>...</td>\n",
       "      <td>63.5653</td>\n",
       "      <td>63.2257</td>\n",
       "      <td>62.5544</td>\n",
       "      <td>62.7686</td>\n",
       "      <td>62.5326</td>\n",
       "      <td>62.5831</td>\n",
       "      <td>62.5283</td>\n",
       "      <td>62.4071</td>\n",
       "      <td>62.2499</td>\n",
       "      <td>62.1673</td>\n",
       "    </tr>\n",
       "    <tr>\n",
       "      <th>716</th>\n",
       "      <td>63.9722</td>\n",
       "      <td>64.1005</td>\n",
       "      <td>64.0817</td>\n",
       "      <td>64.4097</td>\n",
       "      <td>64.1401</td>\n",
       "      <td>64.1948</td>\n",
       "      <td>63.8135</td>\n",
       "      <td>63.7185</td>\n",
       "      <td>63.7244</td>\n",
       "      <td>63.5788</td>\n",
       "      <td>...</td>\n",
       "      <td>63.2257</td>\n",
       "      <td>62.5544</td>\n",
       "      <td>62.7686</td>\n",
       "      <td>62.5326</td>\n",
       "      <td>62.5831</td>\n",
       "      <td>62.5283</td>\n",
       "      <td>62.4071</td>\n",
       "      <td>62.2499</td>\n",
       "      <td>62.1673</td>\n",
       "      <td>61.7164</td>\n",
       "    </tr>\n",
       "    <tr>\n",
       "      <th>717</th>\n",
       "      <td>64.1005</td>\n",
       "      <td>64.0817</td>\n",
       "      <td>64.4097</td>\n",
       "      <td>64.1401</td>\n",
       "      <td>64.1948</td>\n",
       "      <td>63.8135</td>\n",
       "      <td>63.7185</td>\n",
       "      <td>63.7244</td>\n",
       "      <td>63.5788</td>\n",
       "      <td>63.5653</td>\n",
       "      <td>...</td>\n",
       "      <td>62.5544</td>\n",
       "      <td>62.7686</td>\n",
       "      <td>62.5326</td>\n",
       "      <td>62.5831</td>\n",
       "      <td>62.5283</td>\n",
       "      <td>62.4071</td>\n",
       "      <td>62.2499</td>\n",
       "      <td>62.1673</td>\n",
       "      <td>61.7164</td>\n",
       "      <td>61.7676</td>\n",
       "    </tr>\n",
       "    <tr>\n",
       "      <th>718</th>\n",
       "      <td>64.0817</td>\n",
       "      <td>64.4097</td>\n",
       "      <td>64.1401</td>\n",
       "      <td>64.1948</td>\n",
       "      <td>63.8135</td>\n",
       "      <td>63.7185</td>\n",
       "      <td>63.7244</td>\n",
       "      <td>63.5788</td>\n",
       "      <td>63.5653</td>\n",
       "      <td>63.2257</td>\n",
       "      <td>...</td>\n",
       "      <td>62.7686</td>\n",
       "      <td>62.5326</td>\n",
       "      <td>62.5831</td>\n",
       "      <td>62.5283</td>\n",
       "      <td>62.4071</td>\n",
       "      <td>62.2499</td>\n",
       "      <td>62.1673</td>\n",
       "      <td>61.7164</td>\n",
       "      <td>61.7676</td>\n",
       "      <td>62.0315</td>\n",
       "    </tr>\n",
       "    <tr>\n",
       "      <th>719</th>\n",
       "      <td>64.4097</td>\n",
       "      <td>64.1401</td>\n",
       "      <td>64.1948</td>\n",
       "      <td>63.8135</td>\n",
       "      <td>63.7185</td>\n",
       "      <td>63.7244</td>\n",
       "      <td>63.5788</td>\n",
       "      <td>63.5653</td>\n",
       "      <td>63.2257</td>\n",
       "      <td>62.5544</td>\n",
       "      <td>...</td>\n",
       "      <td>62.5326</td>\n",
       "      <td>62.5831</td>\n",
       "      <td>62.5283</td>\n",
       "      <td>62.4071</td>\n",
       "      <td>62.2499</td>\n",
       "      <td>62.1673</td>\n",
       "      <td>61.7164</td>\n",
       "      <td>61.7676</td>\n",
       "      <td>62.0315</td>\n",
       "      <td>61.9057</td>\n",
       "    </tr>\n",
       "  </tbody>\n",
       "</table>\n",
       "<p>720 rows × 21 columns</p>\n",
       "</div>"
      ],
      "text/plain": [
       "      past_0   past_1   past_2   past_3   past_4   past_5   past_6   past_7  \\\n",
       "0    59.8961  59.9533  60.1614  59.4978  59.3700  59.6067  59.4015  59.1830   \n",
       "1    59.9533  60.1614  59.4978  59.3700  59.6067  59.4015  59.1830  59.3521   \n",
       "2    60.1614  59.4978  59.3700  59.6067  59.4015  59.1830  59.3521  59.6697   \n",
       "3    59.4978  59.3700  59.6067  59.4015  59.1830  59.3521  59.6697  59.5034   \n",
       "4    59.3700  59.6067  59.4015  59.1830  59.3521  59.6697  59.5034  59.2168   \n",
       "..       ...      ...      ...      ...      ...      ...      ...      ...   \n",
       "715  64.0239  63.9722  64.1005  64.0817  64.4097  64.1401  64.1948  63.8135   \n",
       "716  63.9722  64.1005  64.0817  64.4097  64.1401  64.1948  63.8135  63.7185   \n",
       "717  64.1005  64.0817  64.4097  64.1401  64.1948  63.8135  63.7185  63.7244   \n",
       "718  64.0817  64.4097  64.1401  64.1948  63.8135  63.7185  63.7244  63.5788   \n",
       "719  64.4097  64.1401  64.1948  63.8135  63.7185  63.7244  63.5788  63.5653   \n",
       "\n",
       "      past_8   past_9  ...  past_11  past_12  past_13  future_0  future_1  \\\n",
       "0    59.3521  59.6697  ...  59.2168  59.1489  59.6356   60.3196   60.1618   \n",
       "1    59.6697  59.5034  ...  59.1489  59.6356  60.3196   60.1618   60.0851   \n",
       "2    59.5034  59.2168  ...  59.6356  60.3196  60.1618   60.0851   60.3099   \n",
       "3    59.2168  59.1489  ...  60.3196  60.1618  60.0851   60.3099   59.9858   \n",
       "4    59.1489  59.6356  ...  60.1618  60.0851  60.3099   59.9858   59.3137   \n",
       "..       ...      ...  ...      ...      ...      ...       ...       ...   \n",
       "715  63.7185  63.7244  ...  63.5653  63.2257  62.5544   62.7686   62.5326   \n",
       "716  63.7244  63.5788  ...  63.2257  62.5544  62.7686   62.5326   62.5831   \n",
       "717  63.5788  63.5653  ...  62.5544  62.7686  62.5326   62.5831   62.5283   \n",
       "718  63.5653  63.2257  ...  62.7686  62.5326  62.5831   62.5283   62.4071   \n",
       "719  63.2257  62.5544  ...  62.5326  62.5831  62.5283   62.4071   62.2499   \n",
       "\n",
       "     future_2  future_3  future_4  future_5  future_6  \n",
       "0     60.0851   60.3099   59.9858   59.3137   58.7121  \n",
       "1     60.3099   59.9858   59.3137   58.7121   59.1933  \n",
       "2     59.9858   59.3137   58.7121   59.1933   59.5129  \n",
       "3     59.3137   58.7121   59.1933   59.5129   59.0235  \n",
       "4     58.7121   59.1933   59.5129   59.0235   58.8457  \n",
       "..        ...       ...       ...       ...       ...  \n",
       "715   62.5831   62.5283   62.4071   62.2499   62.1673  \n",
       "716   62.5283   62.4071   62.2499   62.1673   61.7164  \n",
       "717   62.4071   62.2499   62.1673   61.7164   61.7676  \n",
       "718   62.2499   62.1673   61.7164   61.7676   62.0315  \n",
       "719   62.1673   61.7164   61.7676   62.0315   61.9057  \n",
       "\n",
       "[720 rows x 21 columns]"
      ]
     },
     "execution_count": 16,
     "metadata": {},
     "output_type": "execute_result"
    }
   ],
   "source": [
    "df"
   ]
  },
  {
   "cell_type": "code",
   "execution_count": 17,
   "metadata": {},
   "outputs": [],
   "source": [
    "X = df[past_columns][:-1] # сюда определил все данные кроме последние строки 14 дней\n",
    "Y = df[future_columns][:-1] # сюда результаты 7 дней"
   ]
  },
  {
   "cell_type": "code",
   "execution_count": 18,
   "metadata": {},
   "outputs": [],
   "source": [
    "X_test = df[past_columns][-1:] # проверочная\n",
    "Y_test = df[future_columns][-1:]  # проверочная"
   ]
  },
  {
   "cell_type": "code",
   "execution_count": 21,
   "metadata": {},
   "outputs": [],
   "source": [
    "from sklearn.linear_model import LinearRegression # импортировали одну из библиотек\n",
    "lr = LinearRegression() #\n",
    "lr.fit(X,Y) # Обучение\n",
    "prediction = lr.predict(X_test) # Предсказания"
   ]
  },
  {
   "cell_type": "code",
   "execution_count": 23,
   "metadata": {},
   "outputs": [
    {
     "data": {
      "text/plain": [
       "array([[62.54748068, 62.60156856, 62.63105766, 62.62191531, 62.61546098,\n",
       "        62.63146873, 62.65588924]])"
      ]
     },
     "execution_count": 23,
     "metadata": {},
     "output_type": "execute_result"
    }
   ],
   "source": [
    "prediction"
   ]
  },
  {
   "cell_type": "code",
   "execution_count": 24,
   "metadata": {},
   "outputs": [],
   "source": [
    "import matplotlib.pyplot as plt # импортировали для графиков"
   ]
  },
  {
   "cell_type": "code",
   "execution_count": 25,
   "metadata": {},
   "outputs": [
    {
     "data": {
      "text/plain": [
       "<matplotlib.legend.Legend at 0x1a24525d90>"
      ]
     },
     "execution_count": 25,
     "metadata": {},
     "output_type": "execute_result"
    },
    {
     "data": {
      "image/png": "[encoded data removed]",
      "text/plain": [
       "<Figure size 432x288 with 1 Axes>"
      ]
     },
     "metadata": {
      "needs_background": "light"
     },
     "output_type": "display_data"
    }
   ],
   "source": [
    "plt.plot(prediction[0], label=\"Prediction\")\n",
    "plt.plot(Y_test.iloc[0], label=\"Real\")\n",
    "plt.legend()"
   ]
  },
  {
   "cell_type": "code",
   "execution_count": 26,
   "metadata": {},
   "outputs": [],
   "source": [
    "from sklearn.metrics import mean_absolute_error # импорт для расчета отклонения"
   ]
  },
  {
   "cell_type": "code",
   "execution_count": 27,
   "metadata": {},
   "outputs": [
    {
     "data": {
      "text/plain": [
       "0.5799058806552476"
      ]
     },
     "execution_count": 27,
     "metadata": {},
     "output_type": "execute_result"
    }
   ],
   "source": [
    "mean_absolute_error(prediction[0], Y_test.iloc[0]) # посчитали отклонение"
   ]
  },
  {
   "cell_type": "code",
   "execution_count": 28,
   "metadata": {},
   "outputs": [
    {
     "data": {
      "text/plain": [
       "KNeighborsRegressor(algorithm='auto', leaf_size=30, metric='minkowski',\n",
       "                    metric_params=None, n_jobs=None, n_neighbors=2, p=2,\n",
       "                    weights='uniform')"
      ]
     },
     "execution_count": 28,
     "metadata": {},
     "output_type": "execute_result"
    }
   ],
   "source": [
    "from sklearn.neighbors import KNeighborsRegressor # еще одна библиотека\n",
    "KNN = KNeighborsRegressor(n_neighbors=2) # определили переменную\n",
    "KNN.fit(X,Y) # скормили данные"
   ]
  },
  {
   "cell_type": "code",
   "execution_count": 29,
   "metadata": {},
   "outputs": [
    {
     "name": "stdout",
     "output_type": "stream",
     "text": [
      "MAE = 0.2128142857142856\n"
     ]
    },
    {
     "data": {
      "image/png": "[encoded data removed]",
      "text/plain": [
       "<Figure size 432x288 with 1 Axes>"
      ]
     },
     "metadata": {
      "needs_background": "light"
     },
     "output_type": "display_data"
    }
   ],
   "source": [
    "prediction = KNN.predict(X_test) # Предсказания\n",
    "plt.plot(prediction[0], label=\"Prediction\") # График\n",
    "plt.plot(Y_test.iloc[0], label=\"Real\")\n",
    "plt.legend()\n",
    "mae = mean_absolute_error(prediction[0], Y_test.iloc[0])\n",
    "print(f\"MAE = {mae}\")"
   ]
  },
  {
   "cell_type": "code",
   "execution_count": 58,
   "metadata": {},
   "outputs": [
    {
     "name": "stdout",
     "output_type": "stream",
     "text": [
      "MAE = 0.21367339605942196\n"
     ]
    },
    {
     "data": {
      "image/png": "[encoded data removed]",
      "text/plain": [
       "<Figure size 432x288 with 1 Axes>"
      ]
     },
     "metadata": {
      "needs_background": "light"
     },
     "output_type": "display_data"
    }
   ],
   "source": [
    "# сделаем заготовку чтобы двадцать раз не тыкать\n",
    "# на уроке было 0.9246236245683893\n",
    "# с параметрами MLP = MLPRegressor(max_iter=500, hidden_layer_sizes=(200,200), random_state=42)\n",
    "# мы добились 0.21367339605942196\n",
    "# с параметрами как указано ниже\n",
    "# некоторые паарметры указаны с данными по умолчанию, оставил их потому что переберал,но вернулся к исходным\n",
    "\n",
    "from sklearn.neural_network import MLPRegressor\n",
    "MLP = MLPRegressor(max_iter=500, hidden_layer_sizes=(200,200), activation = 'logistic',solver = 'adam', random_state=42)\n",
    "x=MLP.fit(X,Y) # интересно зачем здесь в переменную?\n",
    "prediction = MLP.predict(X_test) # Предсказания\n",
    "plt.plot(prediction[0], label=\"Prediction\") # График\n",
    "plt.plot(Y_test.iloc[0], label=\"Real\")\n",
    "plt.legend()\n",
    "mae = mean_absolute_error(prediction[0], Y_test.iloc[0])\n",
    "print(f\"MAE = {mae}\")"
   ]
  },
  {
   "cell_type": "code",
   "execution_count": 66,
   "metadata": {},
   "outputs": [
    {
     "name": "stdout",
     "output_type": "stream",
     "text": [
      "MAE = 0.5799058806552476\n"
     ]
    },
    {
     "data": {
      "image/png": "[encoded data removed]",
      "text/plain": [
       "<Figure size 432x288 with 1 Axes>"
      ]
     },
     "metadata": {
      "needs_background": "light"
     },
     "output_type": "display_data"
    }
   ],
   "source": [
    "#var1\n",
    "\n",
    "from sklearn.compose import TransformedTargetRegressor\n",
    "var1 = TransformedTargetRegressor()\n",
    "var1.fit(X,Y) \n",
    "prediction = var1.predict(X_test) # Предсказания\n",
    "plt.plot(prediction[0], label=\"Prediction\") # График\n",
    "plt.plot(Y_test.iloc[0], label=\"Real\")\n",
    "plt.legend()\n",
    "mae = mean_absolute_error(prediction[0], Y_test.iloc[0])\n",
    "print(f\"MAE = {mae}\")"
   ]
  },
  {
   "cell_type": "code",
   "execution_count": 65,
   "metadata": {},
   "outputs": [
    {
     "name": "stdout",
     "output_type": "stream",
     "text": [
      "MAE = 0.5799058806552476\n"
     ]
    },
    {
     "data": {
      "image/png": "[encoded data removed]",
      "text/plain": [
       "<Figure size 432x288 with 1 Axes>"
      ]
     },
     "metadata": {
      "needs_background": "light"
     },
     "output_type": "display_data"
    }
   ],
   "source": [
    "#var2\n",
    "\n",
    "from sklearn.dummy import DummyRegressor\n",
    "var2 = TransformedTargetRegressor()\n",
    "var2.fit(X,Y) \n",
    "prediction = var2.predict(X_test) # Предсказания\n",
    "plt.plot(prediction[0], label=\"Prediction\") # График\n",
    "plt.plot(Y_test.iloc[0], label=\"Real\")\n",
    "plt.legend()\n",
    "mae = mean_absolute_error(prediction[0], Y_test.iloc[0])\n",
    "print(f\"MAE = {mae}\")"
   ]
  },
  {
   "cell_type": "code",
   "execution_count": 64,
   "metadata": {},
   "outputs": [
    {
     "name": "stdout",
     "output_type": "stream",
     "text": [
      "MAE = 0.5799058806552476\n"
     ]
    },
    {
     "data": {
      "image/png": "[encoded data removed]",
      "text/plain": [
       "<Figure size 432x288 with 1 Axes>"
      ]
     },
     "metadata": {
      "needs_background": "light"
     },
     "output_type": "display_data"
    }
   ],
   "source": [
    "#var3\n",
    "\n",
    "from sklearn.ensemble import ExtraTreesRegressor\n",
    "var3 = TransformedTargetRegressor()\n",
    "var3.fit(X,Y) \n",
    "prediction = var3.predict(X_test) # Предсказания\n",
    "plt.plot(prediction[0], label=\"Prediction\") # График\n",
    "plt.plot(Y_test.iloc[0], label=\"Real\")\n",
    "plt.legend()\n",
    "mae = mean_absolute_error(prediction[0], Y_test.iloc[0])\n",
    "print(f\"MAE = {mae}\")"
   ]
  },
  {
   "cell_type": "code",
   "execution_count": 76,
   "metadata": {},
   "outputs": [
    {
     "name": "stdout",
     "output_type": "stream",
     "text": [
      "MAE = 0.5799058806552476\n"
     ]
    },
    {
     "data": {
      "image/png": "[encoded data removed]",
      "text/plain": [
       "<Figure size 432x288 with 1 Axes>"
      ]
     },
     "metadata": {
      "needs_background": "light"
     },
     "output_type": "display_data"
    }
   ],
   "source": [
    "#var4\n",
    "\n",
    "from sklearn.gaussian_process import GaussianProcessRegressor\n",
    "var4 = TransformedTargetRegressor()\n",
    "var4.fit(X,Y) \n",
    "prediction = var4.predict(X_test) # Предсказания\n",
    "plt.plot(prediction[0], label=\"Prediction\") # График\n",
    "plt.plot(Y_test.iloc[0], label=\"Real\")\n",
    "plt.legend()\n",
    "mae = mean_absolute_error(prediction[0], Y_test.iloc[0])\n",
    "print(f\"MAE = {mae}\")"
   ]
  },
  {
   "cell_type": "code",
   "execution_count": null,
   "metadata": {},
   "outputs": [],
   "source": [
    "# Выводы\n",
    "\n",
    "# общие выводы по курсу:\n",
    "# всегда было интересно, как это работат\n",
    "# и общий принцип уже понятен\n",
    "# очень познавательный курс, спасибо\n",
    "# отдельное спасибо Михаилу за отличное раскрытие информации\n",
    "# хотя пока не разеберешься в деталях, это все еще как \"за туманом\"\n",
    "\n",
    "# я работаю программистом 1С. Дома не было компьютера (работа - на работе - дома - отдых)\n",
    "# но вчера даже специально купил ноутбук только для того, чтобы можно было выполнить задания\n",
    "# пришлось изрядно потратиться и приз был бы очень и очень кстати для семейного бюджета\n",
    "\n",
    "# выводы по заданию\n",
    "# последние четыре расчета показывают схожий результат (и в рамках абсолютного отклонения и в рамках динамики развития)\n",
    "# и хотя абсолютное отклонение находится в рамках заложенного допуска (один рубль)\n",
    "# смущает, что не предугадана динамика за выбранный период\n",
    "# из чего можно сделать вывод, что база для анализа выбрана не совсем корректно, а перебор методов не позволяет повысить качество прогнозирования\n",
    "# и необходимо корректировать базу (данные обучения) для прогноза\n",
    "\n",
    "# хотелось бы проверить еще на 5-10 отрезках\n",
    "# но до сдачи домашней работы, к сожалению, не успею\n"
   ]
  }
 ],
 "metadata": {
  "kernelspec": {
   "display_name": "Python 3",
   "language": "python",
   "name": "python3"
  },
  "language_info": {
   "codemirror_mode": {
    "name": "ipython",
    "version": 3
   },
   "file_extension": ".py",
   "mimetype": "text/x-python",
   "name": "python",
   "nbconvert_exporter": "python",
   "pygments_lexer": "ipython3",
   "version": "3.7.6"
  }
 },
 "nbformat": 4,
 "nbformat_minor": 2
}
