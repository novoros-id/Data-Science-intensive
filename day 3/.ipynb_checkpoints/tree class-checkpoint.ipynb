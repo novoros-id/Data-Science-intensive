{
 "cells": [
  {
   "cell_type": "code",
   "execution_count": 2,
   "metadata": {},
   "outputs": [],
   "source": [
    "import pandas\n",
    "from sklearn.tree import DecisionTreeClassifier\n",
    "from sklearn.model_selection import GridSearchCV"
   ]
  },
  {
   "cell_type": "code",
   "execution_count": 3,
   "metadata": {},
   "outputs": [],
   "source": [
    "# подготовка таблицы\n",
    "data = pandas.read_csv('titanic.csv')\n",
    "X_full = data[['Pclass', 'Fare', 'Age', 'Sex','Survived']]\n",
    "X_non_Na = X_full.dropna() # удаление пустых\n",
    "Y = X_non_Na.Survived\n",
    "X = X_non_Na[['Pclass', 'Fare', 'Age', 'Sex']]\n",
    "X_ = pandas.get_dummies(X,columns = ['Sex']) \n",
    "X = X_.drop('Sex_male',axis=1)\n"
   ]
  },
  {
   "cell_type": "code",
   "execution_count": 10,
   "metadata": {},
   "outputs": [],
   "source": [
    "# простая проверочная таблица\n",
    "my_sample = {'Pclass': 3, 'Fare': 7, 'Age': 32, 'Sex_female': 0}\n",
    "may_sample_dataframe = pandas.DataFrame(data=[my_sample])"
   ]
  },
  {
   "cell_type": "code",
   "execution_count": 4,
   "metadata": {},
   "outputs": [
    {
     "name": "stdout",
     "output_type": "stream",
     "text": [
      "Index(['Pclass', 'Fare', 'Age', 'Sex_female'], dtype='object')\n",
      "[0.14751816 0.29538468 0.25658495 0.30051221]\n"
     ]
    }
   ],
   "source": [
    "# предсказание простое\n",
    "clf = DecisionTreeClassifier(random_state=241)\n",
    "clf.fit(X, Y)\n",
    "# расчет веса показателей\n",
    "importances = clf.feature_importances_\n",
    "print(X.columns)\n",
    "print(importances)"
   ]
  },
  {
   "cell_type": "code",
   "execution_count": 5,
   "metadata": {},
   "outputs": [],
   "source": [
    "# пример использования подбора различных вариантов\n",
    "clf = DecisionTreeClassifier(random_state=241)\n",
    "\n",
    "# здесь пишем какие параметры будет перебирать\n",
    "param_greed = {\n",
    "    \"max_depth\" : [2,5,10],\n",
    "    \"max_features\" : [2,5,10],\n",
    "    \"splitter\" : ['best', 'random']\n",
    "}"
   ]
  },
  {
   "cell_type": "code",
   "execution_count": 14,
   "metadata": {},
   "outputs": [],
   "source": [
    "# пишем каие параметры перебираем scoring = как оцениваем  ,\n",
    "# cv = сколько тестовых выборок, n_jobs = -1 используем все процссоры\n",
    "GS = GridSearchCV(clf,param_greed,scoring = 'average_precision',cv = 6,n_jobs = -1)"
   ]
  },
  {
   "cell_type": "code",
   "execution_count": 15,
   "metadata": {},
   "outputs": [
    {
     "data": {
      "text/plain": [
       "GridSearchCV(cv=6, error_score=nan,\n",
       "             estimator=DecisionTreeClassifier(ccp_alpha=0.0, class_weight=None,\n",
       "                                              criterion='gini', max_depth=None,\n",
       "                                              max_features=None,\n",
       "                                              max_leaf_nodes=None,\n",
       "                                              min_impurity_decrease=0.0,\n",
       "                                              min_impurity_split=None,\n",
       "                                              min_samples_leaf=1,\n",
       "                                              min_samples_split=2,\n",
       "                                              min_weight_fraction_leaf=0.0,\n",
       "                                              presort='deprecated',\n",
       "                                              random_state=241,\n",
       "                                              splitter='best'),\n",
       "             iid='deprecated', n_jobs=-1,\n",
       "             param_grid={'max_depth': [2, 5, 10], 'max_features': [2, 5, 10],\n",
       "                         'splitter': ['best', 'random']},\n",
       "             pre_dispatch='2*n_jobs', refit=True, return_train_score=False,\n",
       "             scoring='average_precision', verbose=0)"
      ]
     },
     "execution_count": 15,
     "metadata": {},
     "output_type": "execute_result"
    }
   ],
   "source": [
    "GS.fit(X,Y)"
   ]
  },
  {
   "cell_type": "code",
   "execution_count": 16,
   "metadata": {},
   "outputs": [
    {
     "data": {
      "text/plain": [
       "0.793709251383004"
      ]
     },
     "execution_count": 16,
     "metadata": {},
     "output_type": "execute_result"
    }
   ],
   "source": [
    "# луяший показатель\n",
    "GS.best_score_"
   ]
  },
  {
   "cell_type": "code",
   "execution_count": 17,
   "metadata": {},
   "outputs": [
    {
     "data": {
      "text/plain": [
       "{'max_depth': 5, 'max_features': 2, 'splitter': 'random'}"
      ]
     },
     "execution_count": 17,
     "metadata": {},
     "output_type": "execute_result"
    }
   ],
   "source": [
    "# луяшие параметры\n",
    "GS.best_params_"
   ]
  },
  {
   "cell_type": "code",
   "execution_count": 18,
   "metadata": {},
   "outputs": [
    {
     "data": {
      "text/plain": [
       "array([0.26230756, 0.10109736, 0.01659543, 0.61999966])"
      ]
     },
     "execution_count": 18,
     "metadata": {},
     "output_type": "execute_result"
    }
   ],
   "source": [
    "# обращаемся\n",
    "GS.best_estimator_.feature_importances_"
   ]
  },
  {
   "cell_type": "code",
   "execution_count": 13,
   "metadata": {},
   "outputs": [
    {
     "data": {
      "text/plain": [
       "array([0])"
      ]
     },
     "execution_count": 13,
     "metadata": {},
     "output_type": "execute_result"
    }
   ],
   "source": [
    "# предсказываем\n",
    "GS.best_estimator_.predict(may_sample_dataframe)"
   ]
  }
 ],
 "metadata": {
  "kernelspec": {
   "display_name": "Python 3",
   "language": "python",
   "name": "python3"
  },
  "language_info": {
   "codemirror_mode": {
    "name": "ipython",
    "version": 3
   },
   "file_extension": ".py",
   "mimetype": "text/x-python",
   "name": "python",
   "nbconvert_exporter": "python",
   "pygments_lexer": "ipython3",
   "version": "3.7.6"
  }
 },
 "nbformat": 4,
 "nbformat_minor": 4
}
