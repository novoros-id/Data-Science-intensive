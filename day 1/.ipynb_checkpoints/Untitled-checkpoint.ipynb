{
 "cells": [
  {
   "cell_type": "code",
   "execution_count": 3,
   "metadata": {},
   "outputs": [
    {
     "name": "stdout",
     "output_type": "stream",
     "text": [
      "hello world\n"
     ]
    }
   ],
   "source": [
    "print('hello world')"
   ]
  },
  {
   "cell_type": "code",
   "execution_count": 9,
   "metadata": {},
   "outputs": [],
   "source": [
    "speaker = 'vaganov'"
   ]
  },
  {
   "cell_type": "code",
   "execution_count": 10,
   "metadata": {},
   "outputs": [
    {
     "name": "stdout",
     "output_type": "stream",
     "text": [
      "vaganov\n"
     ]
    }
   ],
   "source": [
    "print(speaker)"
   ]
  },
  {
   "cell_type": "code",
   "execution_count": 11,
   "metadata": {},
   "outputs": [],
   "source": [
    "duration = 120"
   ]
  },
  {
   "cell_type": "code",
   "execution_count": 13,
   "metadata": {},
   "outputs": [
    {
     "name": "stdout",
     "output_type": "stream",
     "text": [
      "today  vaganov\n"
     ]
    }
   ],
   "source": [
    "print(f\"today  {speaker}\")"
   ]
  },
  {
   "cell_type": "code",
   "execution_count": 14,
   "metadata": {},
   "outputs": [],
   "source": [
    "speaker += \"(vgn)\""
   ]
  },
  {
   "cell_type": "code",
   "execution_count": 15,
   "metadata": {},
   "outputs": [
    {
     "data": {
      "text/plain": [
       "'vaganov(vgn)'"
      ]
     },
     "execution_count": 15,
     "metadata": {},
     "output_type": "execute_result"
    }
   ],
   "source": [
    "speaker"
   ]
  },
  {
   "cell_type": "code",
   "execution_count": 17,
   "metadata": {},
   "outputs": [],
   "source": [
    "duration_hours = duration / 60"
   ]
  },
  {
   "cell_type": "code",
   "execution_count": 18,
   "metadata": {},
   "outputs": [
    {
     "name": "stdout",
     "output_type": "stream",
     "text": [
      "2.0\n"
     ]
    }
   ],
   "source": [
    "print (duration_hours)"
   ]
  },
  {
   "cell_type": "code",
   "execution_count": 21,
   "metadata": {},
   "outputs": [],
   "source": [
    "income = [100,2,13,-1600,1000]"
   ]
  },
  {
   "cell_type": "code",
   "execution_count": 23,
   "metadata": {},
   "outputs": [
    {
     "data": {
      "text/plain": [
       "100"
      ]
     },
     "execution_count": 23,
     "metadata": {},
     "output_type": "execute_result"
    }
   ],
   "source": [
    "income[0]"
   ]
  },
  {
   "cell_type": "code",
   "execution_count": 24,
   "metadata": {},
   "outputs": [
    {
     "data": {
      "text/plain": [
       "[2, 13]"
      ]
     },
     "execution_count": 24,
     "metadata": {},
     "output_type": "execute_result"
    }
   ],
   "source": [
    "income[1:3]"
   ]
  },
  {
   "cell_type": "code",
   "execution_count": 25,
   "metadata": {},
   "outputs": [
    {
     "data": {
      "text/plain": [
       "-485"
      ]
     },
     "execution_count": 25,
     "metadata": {},
     "output_type": "execute_result"
    }
   ],
   "source": [
    "sum(income)"
   ]
  },
  {
   "cell_type": "code",
   "execution_count": 26,
   "metadata": {},
   "outputs": [
    {
     "data": {
      "text/plain": [
       "5"
      ]
     },
     "execution_count": 26,
     "metadata": {},
     "output_type": "execute_result"
    }
   ],
   "source": [
    "len (income)"
   ]
  },
  {
   "cell_type": "code",
   "execution_count": 27,
   "metadata": {},
   "outputs": [
    {
     "name": "stdout",
     "output_type": "stream",
     "text": [
      " я получил на счет 100 рублей\n",
      " я получил на счет 2 рублей\n",
      " я получил на счет 13 рублей\n",
      " я получил на счет -1600 рублей\n",
      " я получил на счет 1000 рублей\n"
     ]
    }
   ],
   "source": [
    "for i in income:\n",
    "    print(f\" я получил на счет {i} рублей\")"
   ]
  },
  {
   "cell_type": "code",
   "execution_count": 30,
   "metadata": {},
   "outputs": [],
   "source": [
    "import pandas"
   ]
  },
  {
   "cell_type": "code",
   "execution_count": 33,
   "metadata": {},
   "outputs": [],
   "source": [
    "trips = pandas.read_excel(\"trips_data.xlsx\")"
   ]
  },
  {
   "cell_type": "code",
   "execution_count": 34,
   "metadata": {},
   "outputs": [
    {
     "data": {
      "text/html": [
       "<div>\n",
       "<style scoped>\n",
       "    .dataframe tbody tr th:only-of-type {\n",
       "        vertical-align: middle;\n",
       "    }\n",
       "\n",
       "    .dataframe tbody tr th {\n",
       "        vertical-align: top;\n",
       "    }\n",
       "\n",
       "    .dataframe thead th {\n",
       "        text-align: right;\n",
       "    }\n",
       "</style>\n",
       "<table border=\"1\" class=\"dataframe\">\n",
       "  <thead>\n",
       "    <tr style=\"text-align: right;\">\n",
       "      <th></th>\n",
       "      <th>Unnamed: 0</th>\n",
       "      <th>salary</th>\n",
       "      <th>city</th>\n",
       "      <th>age</th>\n",
       "      <th>vacation_preference</th>\n",
       "      <th>transport_preference</th>\n",
       "      <th>family_members</th>\n",
       "      <th>target</th>\n",
       "    </tr>\n",
       "  </thead>\n",
       "  <tbody>\n",
       "    <tr>\n",
       "      <th>0</th>\n",
       "      <td>0</td>\n",
       "      <td>196000</td>\n",
       "      <td>Краснодар</td>\n",
       "      <td>25</td>\n",
       "      <td>Шоппинг</td>\n",
       "      <td>Автомобиль</td>\n",
       "      <td>1</td>\n",
       "      <td>New York</td>\n",
       "    </tr>\n",
       "    <tr>\n",
       "      <th>1</th>\n",
       "      <td>1</td>\n",
       "      <td>152000</td>\n",
       "      <td>Екатеринбург</td>\n",
       "      <td>60</td>\n",
       "      <td>Архитектура</td>\n",
       "      <td>Самолет</td>\n",
       "      <td>1</td>\n",
       "      <td>London</td>\n",
       "    </tr>\n",
       "    <tr>\n",
       "      <th>2</th>\n",
       "      <td>2</td>\n",
       "      <td>83000</td>\n",
       "      <td>Томск</td>\n",
       "      <td>49</td>\n",
       "      <td>Архитектура</td>\n",
       "      <td>Автомобиль</td>\n",
       "      <td>2</td>\n",
       "      <td>Sydney</td>\n",
       "    </tr>\n",
       "    <tr>\n",
       "      <th>3</th>\n",
       "      <td>3</td>\n",
       "      <td>161000</td>\n",
       "      <td>Краснодар</td>\n",
       "      <td>41</td>\n",
       "      <td>Шоппинг</td>\n",
       "      <td>Автомобиль</td>\n",
       "      <td>0</td>\n",
       "      <td>New York</td>\n",
       "    </tr>\n",
       "    <tr>\n",
       "      <th>4</th>\n",
       "      <td>4</td>\n",
       "      <td>146000</td>\n",
       "      <td>Краснодар</td>\n",
       "      <td>58</td>\n",
       "      <td>Архитектура</td>\n",
       "      <td>Самолет</td>\n",
       "      <td>1</td>\n",
       "      <td>Sydney</td>\n",
       "    </tr>\n",
       "  </tbody>\n",
       "</table>\n",
       "</div>"
      ],
      "text/plain": [
       "   Unnamed: 0  salary          city  age vacation_preference  \\\n",
       "0           0  196000     Краснодар   25             Шоппинг   \n",
       "1           1  152000  Екатеринбург   60         Архитектура   \n",
       "2           2   83000         Томск   49         Архитектура   \n",
       "3           3  161000     Краснодар   41             Шоппинг   \n",
       "4           4  146000     Краснодар   58         Архитектура   \n",
       "\n",
       "  transport_preference  family_members    target  \n",
       "0           Автомобиль               1  New York  \n",
       "1              Самолет               1    London  \n",
       "2           Автомобиль               2    Sydney  \n",
       "3           Автомобиль               0  New York  \n",
       "4              Самолет               1    Sydney  "
      ]
     },
     "execution_count": 34,
     "metadata": {},
     "output_type": "execute_result"
    }
   ],
   "source": [
    "trips.head()"
   ]
  },
  {
   "cell_type": "code",
   "execution_count": 35,
   "metadata": {},
   "outputs": [
    {
     "data": {
      "text/html": [
       "<div>\n",
       "<style scoped>\n",
       "    .dataframe tbody tr th:only-of-type {\n",
       "        vertical-align: middle;\n",
       "    }\n",
       "\n",
       "    .dataframe tbody tr th {\n",
       "        vertical-align: top;\n",
       "    }\n",
       "\n",
       "    .dataframe thead th {\n",
       "        text-align: right;\n",
       "    }\n",
       "</style>\n",
       "<table border=\"1\" class=\"dataframe\">\n",
       "  <thead>\n",
       "    <tr style=\"text-align: right;\">\n",
       "      <th></th>\n",
       "      <th>Unnamed: 0</th>\n",
       "      <th>salary</th>\n",
       "      <th>age</th>\n",
       "      <th>family_members</th>\n",
       "    </tr>\n",
       "  </thead>\n",
       "  <tbody>\n",
       "    <tr>\n",
       "      <th>count</th>\n",
       "      <td>1000.000000</td>\n",
       "      <td>1000.000000</td>\n",
       "      <td>1000.000000</td>\n",
       "      <td>1000.000000</td>\n",
       "    </tr>\n",
       "    <tr>\n",
       "      <th>mean</th>\n",
       "      <td>499.500000</td>\n",
       "      <td>111935.000000</td>\n",
       "      <td>55.209000</td>\n",
       "      <td>1.295000</td>\n",
       "    </tr>\n",
       "    <tr>\n",
       "      <th>std</th>\n",
       "      <td>288.819436</td>\n",
       "      <td>54580.049073</td>\n",
       "      <td>11.925164</td>\n",
       "      <td>0.885867</td>\n",
       "    </tr>\n",
       "    <tr>\n",
       "      <th>min</th>\n",
       "      <td>0.000000</td>\n",
       "      <td>0.000000</td>\n",
       "      <td>18.000000</td>\n",
       "      <td>0.000000</td>\n",
       "    </tr>\n",
       "    <tr>\n",
       "      <th>25%</th>\n",
       "      <td>249.750000</td>\n",
       "      <td>68000.000000</td>\n",
       "      <td>50.000000</td>\n",
       "      <td>1.000000</td>\n",
       "    </tr>\n",
       "    <tr>\n",
       "      <th>50%</th>\n",
       "      <td>499.500000</td>\n",
       "      <td>99000.000000</td>\n",
       "      <td>58.000000</td>\n",
       "      <td>1.000000</td>\n",
       "    </tr>\n",
       "    <tr>\n",
       "      <th>75%</th>\n",
       "      <td>749.250000</td>\n",
       "      <td>161000.000000</td>\n",
       "      <td>63.000000</td>\n",
       "      <td>2.000000</td>\n",
       "    </tr>\n",
       "    <tr>\n",
       "      <th>max</th>\n",
       "      <td>999.000000</td>\n",
       "      <td>250000.000000</td>\n",
       "      <td>82.000000</td>\n",
       "      <td>4.000000</td>\n",
       "    </tr>\n",
       "  </tbody>\n",
       "</table>\n",
       "</div>"
      ],
      "text/plain": [
       "        Unnamed: 0         salary          age  family_members\n",
       "count  1000.000000    1000.000000  1000.000000     1000.000000\n",
       "mean    499.500000  111935.000000    55.209000        1.295000\n",
       "std     288.819436   54580.049073    11.925164        0.885867\n",
       "min       0.000000       0.000000    18.000000        0.000000\n",
       "25%     249.750000   68000.000000    50.000000        1.000000\n",
       "50%     499.500000   99000.000000    58.000000        1.000000\n",
       "75%     749.250000  161000.000000    63.000000        2.000000\n",
       "max     999.000000  250000.000000    82.000000        4.000000"
      ]
     },
     "execution_count": 35,
     "metadata": {},
     "output_type": "execute_result"
    }
   ],
   "source": [
    "trips.describe()"
   ]
  },
  {
   "cell_type": "code",
   "execution_count": 36,
   "metadata": {},
   "outputs": [
    {
     "data": {
      "text/plain": [
       "0      196000\n",
       "1      152000\n",
       "2       83000\n",
       "3      161000\n",
       "4      146000\n",
       "        ...  \n",
       "995     81000\n",
       "996     96000\n",
       "997     56000\n",
       "998    162000\n",
       "999    171000\n",
       "Name: salary, Length: 1000, dtype: int64"
      ]
     },
     "execution_count": 36,
     "metadata": {},
     "output_type": "execute_result"
    }
   ],
   "source": [
    "trips.salary"
   ]
  },
  {
   "cell_type": "code",
   "execution_count": 37,
   "metadata": {},
   "outputs": [
    {
     "data": {
      "text/plain": [
       "<matplotlib.axes._subplots.AxesSubplot at 0x11e084990>"
      ]
     },
     "execution_count": 37,
     "metadata": {},
     "output_type": "execute_result"
    },
    {
     "data": {
      "image/png": "[encoded data removed]",
      "text/plain": [
       "<Figure size 432x288 with 1 Axes>"
      ]
     },
     "metadata": {
      "needs_background": "light"
     },
     "output_type": "display_data"
    }
   ],
   "source": [
    "trips.salary.hist()"
   ]
  },
  {
   "cell_type": "code",
   "execution_count": 40,
   "metadata": {},
   "outputs": [
    {
     "data": {
      "text/plain": [
       "Краснодар       307\n",
       "Томск           267\n",
       "Хабаровск       107\n",
       "Киев            106\n",
       "Омск             84\n",
       "Екатеринбург     67\n",
       "Новосибирск      33\n",
       "Минск            14\n",
       "Петербург        13\n",
       "Москва            1\n",
       "Ярославль         1\n",
       "Name: city, dtype: int64"
      ]
     },
     "execution_count": 40,
     "metadata": {},
     "output_type": "execute_result"
    }
   ],
   "source": [
    "trips.city.value_counts()"
   ]
  },
  {
   "cell_type": "code",
   "execution_count": 42,
   "metadata": {},
   "outputs": [
    {
     "data": {
      "text/plain": [
       "<matplotlib.axes._subplots.AxesSubplot at 0x11ec03450>"
      ]
     },
     "execution_count": 42,
     "metadata": {},
     "output_type": "execute_result"
    },
    {
     "data": {
      "image/png": "[encoded data removed]",
      "text/plain": [
       "<Figure size 432x288 with 1 Axes>"
      ]
     },
     "metadata": {
      "needs_background": "light"
     },
     "output_type": "display_data"
    }
   ],
   "source": [
    "trips.city.value_counts().plot(kind = 'bar')"
   ]
  },
  {
   "cell_type": "code",
   "execution_count": 43,
   "metadata": {},
   "outputs": [
    {
     "data": {
      "text/html": [
       "<div>\n",
       "<style scoped>\n",
       "    .dataframe tbody tr th:only-of-type {\n",
       "        vertical-align: middle;\n",
       "    }\n",
       "\n",
       "    .dataframe tbody tr th {\n",
       "        vertical-align: top;\n",
       "    }\n",
       "\n",
       "    .dataframe thead th {\n",
       "        text-align: right;\n",
       "    }\n",
       "</style>\n",
       "<table border=\"1\" class=\"dataframe\">\n",
       "  <thead>\n",
       "    <tr style=\"text-align: right;\">\n",
       "      <th></th>\n",
       "      <th>Unnamed: 0</th>\n",
       "      <th>salary</th>\n",
       "      <th>city</th>\n",
       "      <th>age</th>\n",
       "      <th>vacation_preference</th>\n",
       "      <th>transport_preference</th>\n",
       "      <th>family_members</th>\n",
       "      <th>target</th>\n",
       "    </tr>\n",
       "  </thead>\n",
       "  <tbody>\n",
       "    <tr>\n",
       "      <th>0</th>\n",
       "      <td>0</td>\n",
       "      <td>196000</td>\n",
       "      <td>Краснодар</td>\n",
       "      <td>25</td>\n",
       "      <td>Шоппинг</td>\n",
       "      <td>Автомобиль</td>\n",
       "      <td>1</td>\n",
       "      <td>New York</td>\n",
       "    </tr>\n",
       "    <tr>\n",
       "      <th>1</th>\n",
       "      <td>1</td>\n",
       "      <td>152000</td>\n",
       "      <td>Екатеринбург</td>\n",
       "      <td>60</td>\n",
       "      <td>Архитектура</td>\n",
       "      <td>Самолет</td>\n",
       "      <td>1</td>\n",
       "      <td>London</td>\n",
       "    </tr>\n",
       "    <tr>\n",
       "      <th>2</th>\n",
       "      <td>2</td>\n",
       "      <td>83000</td>\n",
       "      <td>Томск</td>\n",
       "      <td>49</td>\n",
       "      <td>Архитектура</td>\n",
       "      <td>Автомобиль</td>\n",
       "      <td>2</td>\n",
       "      <td>Sydney</td>\n",
       "    </tr>\n",
       "    <tr>\n",
       "      <th>3</th>\n",
       "      <td>3</td>\n",
       "      <td>161000</td>\n",
       "      <td>Краснодар</td>\n",
       "      <td>41</td>\n",
       "      <td>Шоппинг</td>\n",
       "      <td>Автомобиль</td>\n",
       "      <td>0</td>\n",
       "      <td>New York</td>\n",
       "    </tr>\n",
       "    <tr>\n",
       "      <th>4</th>\n",
       "      <td>4</td>\n",
       "      <td>146000</td>\n",
       "      <td>Краснодар</td>\n",
       "      <td>58</td>\n",
       "      <td>Архитектура</td>\n",
       "      <td>Самолет</td>\n",
       "      <td>1</td>\n",
       "      <td>Sydney</td>\n",
       "    </tr>\n",
       "  </tbody>\n",
       "</table>\n",
       "</div>"
      ],
      "text/plain": [
       "   Unnamed: 0  salary          city  age vacation_preference  \\\n",
       "0           0  196000     Краснодар   25             Шоппинг   \n",
       "1           1  152000  Екатеринбург   60         Архитектура   \n",
       "2           2   83000         Томск   49         Архитектура   \n",
       "3           3  161000     Краснодар   41             Шоппинг   \n",
       "4           4  146000     Краснодар   58         Архитектура   \n",
       "\n",
       "  transport_preference  family_members    target  \n",
       "0           Автомобиль               1  New York  \n",
       "1              Самолет               1    London  \n",
       "2           Автомобиль               2    Sydney  \n",
       "3           Автомобиль               0  New York  \n",
       "4              Самолет               1    Sydney  "
      ]
     },
     "execution_count": 43,
     "metadata": {},
     "output_type": "execute_result"
    }
   ],
   "source": [
    "trips.head()"
   ]
  },
  {
   "cell_type": "code",
   "execution_count": 49,
   "metadata": {},
   "outputs": [],
   "source": [
    "trips_updated = pandas.get_dummies(trips,columns=['city','vacation_preference','transport_preference'])"
   ]
  },
  {
   "cell_type": "code",
   "execution_count": 52,
   "metadata": {},
   "outputs": [
    {
     "data": {
      "text/html": [
       "<div>\n",
       "<style scoped>\n",
       "    .dataframe tbody tr th:only-of-type {\n",
       "        vertical-align: middle;\n",
       "    }\n",
       "\n",
       "    .dataframe tbody tr th {\n",
       "        vertical-align: top;\n",
       "    }\n",
       "\n",
       "    .dataframe thead th {\n",
       "        text-align: right;\n",
       "    }\n",
       "</style>\n",
       "<table border=\"1\" class=\"dataframe\">\n",
       "  <thead>\n",
       "    <tr style=\"text-align: right;\">\n",
       "      <th></th>\n",
       "      <th>Unnamed: 0</th>\n",
       "      <th>salary</th>\n",
       "      <th>age</th>\n",
       "      <th>family_members</th>\n",
       "      <th>target</th>\n",
       "      <th>city_Екатеринбург</th>\n",
       "      <th>city_Киев</th>\n",
       "      <th>city_Краснодар</th>\n",
       "      <th>city_Минск</th>\n",
       "      <th>city_Москва</th>\n",
       "      <th>...</th>\n",
       "      <th>city_Ярославль</th>\n",
       "      <th>vacation_preference_Архитектура</th>\n",
       "      <th>vacation_preference_Ночные клубы</th>\n",
       "      <th>vacation_preference_Пляжный отдых</th>\n",
       "      <th>vacation_preference_Шоппинг</th>\n",
       "      <th>transport_preference_Автомобиль</th>\n",
       "      <th>transport_preference_Космический корабль</th>\n",
       "      <th>transport_preference_Морской транспорт</th>\n",
       "      <th>transport_preference_Поезд</th>\n",
       "      <th>transport_preference_Самолет</th>\n",
       "    </tr>\n",
       "  </thead>\n",
       "  <tbody>\n",
       "    <tr>\n",
       "      <th>0</th>\n",
       "      <td>0</td>\n",
       "      <td>196000</td>\n",
       "      <td>25</td>\n",
       "      <td>1</td>\n",
       "      <td>New York</td>\n",
       "      <td>0</td>\n",
       "      <td>0</td>\n",
       "      <td>1</td>\n",
       "      <td>0</td>\n",
       "      <td>0</td>\n",
       "      <td>...</td>\n",
       "      <td>0</td>\n",
       "      <td>0</td>\n",
       "      <td>0</td>\n",
       "      <td>0</td>\n",
       "      <td>1</td>\n",
       "      <td>1</td>\n",
       "      <td>0</td>\n",
       "      <td>0</td>\n",
       "      <td>0</td>\n",
       "      <td>0</td>\n",
       "    </tr>\n",
       "    <tr>\n",
       "      <th>1</th>\n",
       "      <td>1</td>\n",
       "      <td>152000</td>\n",
       "      <td>60</td>\n",
       "      <td>1</td>\n",
       "      <td>London</td>\n",
       "      <td>1</td>\n",
       "      <td>0</td>\n",
       "      <td>0</td>\n",
       "      <td>0</td>\n",
       "      <td>0</td>\n",
       "      <td>...</td>\n",
       "      <td>0</td>\n",
       "      <td>1</td>\n",
       "      <td>0</td>\n",
       "      <td>0</td>\n",
       "      <td>0</td>\n",
       "      <td>0</td>\n",
       "      <td>0</td>\n",
       "      <td>0</td>\n",
       "      <td>0</td>\n",
       "      <td>1</td>\n",
       "    </tr>\n",
       "    <tr>\n",
       "      <th>2</th>\n",
       "      <td>2</td>\n",
       "      <td>83000</td>\n",
       "      <td>49</td>\n",
       "      <td>2</td>\n",
       "      <td>Sydney</td>\n",
       "      <td>0</td>\n",
       "      <td>0</td>\n",
       "      <td>0</td>\n",
       "      <td>0</td>\n",
       "      <td>0</td>\n",
       "      <td>...</td>\n",
       "      <td>0</td>\n",
       "      <td>1</td>\n",
       "      <td>0</td>\n",
       "      <td>0</td>\n",
       "      <td>0</td>\n",
       "      <td>1</td>\n",
       "      <td>0</td>\n",
       "      <td>0</td>\n",
       "      <td>0</td>\n",
       "      <td>0</td>\n",
       "    </tr>\n",
       "    <tr>\n",
       "      <th>3</th>\n",
       "      <td>3</td>\n",
       "      <td>161000</td>\n",
       "      <td>41</td>\n",
       "      <td>0</td>\n",
       "      <td>New York</td>\n",
       "      <td>0</td>\n",
       "      <td>0</td>\n",
       "      <td>1</td>\n",
       "      <td>0</td>\n",
       "      <td>0</td>\n",
       "      <td>...</td>\n",
       "      <td>0</td>\n",
       "      <td>0</td>\n",
       "      <td>0</td>\n",
       "      <td>0</td>\n",
       "      <td>1</td>\n",
       "      <td>1</td>\n",
       "      <td>0</td>\n",
       "      <td>0</td>\n",
       "      <td>0</td>\n",
       "      <td>0</td>\n",
       "    </tr>\n",
       "    <tr>\n",
       "      <th>4</th>\n",
       "      <td>4</td>\n",
       "      <td>146000</td>\n",
       "      <td>58</td>\n",
       "      <td>1</td>\n",
       "      <td>Sydney</td>\n",
       "      <td>0</td>\n",
       "      <td>0</td>\n",
       "      <td>1</td>\n",
       "      <td>0</td>\n",
       "      <td>0</td>\n",
       "      <td>...</td>\n",
       "      <td>0</td>\n",
       "      <td>1</td>\n",
       "      <td>0</td>\n",
       "      <td>0</td>\n",
       "      <td>0</td>\n",
       "      <td>0</td>\n",
       "      <td>0</td>\n",
       "      <td>0</td>\n",
       "      <td>0</td>\n",
       "      <td>1</td>\n",
       "    </tr>\n",
       "    <tr>\n",
       "      <th>...</th>\n",
       "      <td>...</td>\n",
       "      <td>...</td>\n",
       "      <td>...</td>\n",
       "      <td>...</td>\n",
       "      <td>...</td>\n",
       "      <td>...</td>\n",
       "      <td>...</td>\n",
       "      <td>...</td>\n",
       "      <td>...</td>\n",
       "      <td>...</td>\n",
       "      <td>...</td>\n",
       "      <td>...</td>\n",
       "      <td>...</td>\n",
       "      <td>...</td>\n",
       "      <td>...</td>\n",
       "      <td>...</td>\n",
       "      <td>...</td>\n",
       "      <td>...</td>\n",
       "      <td>...</td>\n",
       "      <td>...</td>\n",
       "      <td>...</td>\n",
       "    </tr>\n",
       "    <tr>\n",
       "      <th>995</th>\n",
       "      <td>995</td>\n",
       "      <td>81000</td>\n",
       "      <td>55</td>\n",
       "      <td>2</td>\n",
       "      <td>Paris</td>\n",
       "      <td>0</td>\n",
       "      <td>0</td>\n",
       "      <td>1</td>\n",
       "      <td>0</td>\n",
       "      <td>0</td>\n",
       "      <td>...</td>\n",
       "      <td>0</td>\n",
       "      <td>0</td>\n",
       "      <td>0</td>\n",
       "      <td>1</td>\n",
       "      <td>0</td>\n",
       "      <td>0</td>\n",
       "      <td>0</td>\n",
       "      <td>1</td>\n",
       "      <td>0</td>\n",
       "      <td>0</td>\n",
       "    </tr>\n",
       "    <tr>\n",
       "      <th>996</th>\n",
       "      <td>996</td>\n",
       "      <td>96000</td>\n",
       "      <td>32</td>\n",
       "      <td>1</td>\n",
       "      <td>Paris</td>\n",
       "      <td>0</td>\n",
       "      <td>0</td>\n",
       "      <td>1</td>\n",
       "      <td>0</td>\n",
       "      <td>0</td>\n",
       "      <td>...</td>\n",
       "      <td>0</td>\n",
       "      <td>1</td>\n",
       "      <td>0</td>\n",
       "      <td>0</td>\n",
       "      <td>0</td>\n",
       "      <td>0</td>\n",
       "      <td>0</td>\n",
       "      <td>0</td>\n",
       "      <td>1</td>\n",
       "      <td>0</td>\n",
       "    </tr>\n",
       "    <tr>\n",
       "      <th>997</th>\n",
       "      <td>997</td>\n",
       "      <td>56000</td>\n",
       "      <td>68</td>\n",
       "      <td>2</td>\n",
       "      <td>Paris</td>\n",
       "      <td>0</td>\n",
       "      <td>0</td>\n",
       "      <td>1</td>\n",
       "      <td>0</td>\n",
       "      <td>0</td>\n",
       "      <td>...</td>\n",
       "      <td>0</td>\n",
       "      <td>1</td>\n",
       "      <td>0</td>\n",
       "      <td>0</td>\n",
       "      <td>0</td>\n",
       "      <td>0</td>\n",
       "      <td>0</td>\n",
       "      <td>0</td>\n",
       "      <td>0</td>\n",
       "      <td>1</td>\n",
       "    </tr>\n",
       "    <tr>\n",
       "      <th>998</th>\n",
       "      <td>998</td>\n",
       "      <td>162000</td>\n",
       "      <td>69</td>\n",
       "      <td>0</td>\n",
       "      <td>Sydney</td>\n",
       "      <td>0</td>\n",
       "      <td>0</td>\n",
       "      <td>1</td>\n",
       "      <td>0</td>\n",
       "      <td>0</td>\n",
       "      <td>...</td>\n",
       "      <td>0</td>\n",
       "      <td>1</td>\n",
       "      <td>0</td>\n",
       "      <td>0</td>\n",
       "      <td>0</td>\n",
       "      <td>0</td>\n",
       "      <td>0</td>\n",
       "      <td>0</td>\n",
       "      <td>0</td>\n",
       "      <td>1</td>\n",
       "    </tr>\n",
       "    <tr>\n",
       "      <th>999</th>\n",
       "      <td>999</td>\n",
       "      <td>171000</td>\n",
       "      <td>35</td>\n",
       "      <td>1</td>\n",
       "      <td>New York</td>\n",
       "      <td>0</td>\n",
       "      <td>0</td>\n",
       "      <td>1</td>\n",
       "      <td>0</td>\n",
       "      <td>0</td>\n",
       "      <td>...</td>\n",
       "      <td>0</td>\n",
       "      <td>1</td>\n",
       "      <td>0</td>\n",
       "      <td>0</td>\n",
       "      <td>0</td>\n",
       "      <td>1</td>\n",
       "      <td>0</td>\n",
       "      <td>0</td>\n",
       "      <td>0</td>\n",
       "      <td>0</td>\n",
       "    </tr>\n",
       "  </tbody>\n",
       "</table>\n",
       "<p>1000 rows × 25 columns</p>\n",
       "</div>"
      ],
      "text/plain": [
       "     Unnamed: 0  salary  age  family_members    target  city_Екатеринбург  \\\n",
       "0             0  196000   25               1  New York                  0   \n",
       "1             1  152000   60               1    London                  1   \n",
       "2             2   83000   49               2    Sydney                  0   \n",
       "3             3  161000   41               0  New York                  0   \n",
       "4             4  146000   58               1    Sydney                  0   \n",
       "..          ...     ...  ...             ...       ...                ...   \n",
       "995         995   81000   55               2     Paris                  0   \n",
       "996         996   96000   32               1     Paris                  0   \n",
       "997         997   56000   68               2     Paris                  0   \n",
       "998         998  162000   69               0    Sydney                  0   \n",
       "999         999  171000   35               1  New York                  0   \n",
       "\n",
       "     city_Киев  city_Краснодар  city_Минск  city_Москва  ...  city_Ярославль  \\\n",
       "0            0               1           0            0  ...               0   \n",
       "1            0               0           0            0  ...               0   \n",
       "2            0               0           0            0  ...               0   \n",
       "3            0               1           0            0  ...               0   \n",
       "4            0               1           0            0  ...               0   \n",
       "..         ...             ...         ...          ...  ...             ...   \n",
       "995          0               1           0            0  ...               0   \n",
       "996          0               1           0            0  ...               0   \n",
       "997          0               1           0            0  ...               0   \n",
       "998          0               1           0            0  ...               0   \n",
       "999          0               1           0            0  ...               0   \n",
       "\n",
       "     vacation_preference_Архитектура  vacation_preference_Ночные клубы  \\\n",
       "0                                  0                                 0   \n",
       "1                                  1                                 0   \n",
       "2                                  1                                 0   \n",
       "3                                  0                                 0   \n",
       "4                                  1                                 0   \n",
       "..                               ...                               ...   \n",
       "995                                0                                 0   \n",
       "996                                1                                 0   \n",
       "997                                1                                 0   \n",
       "998                                1                                 0   \n",
       "999                                1                                 0   \n",
       "\n",
       "     vacation_preference_Пляжный отдых  vacation_preference_Шоппинг  \\\n",
       "0                                    0                            1   \n",
       "1                                    0                            0   \n",
       "2                                    0                            0   \n",
       "3                                    0                            1   \n",
       "4                                    0                            0   \n",
       "..                                 ...                          ...   \n",
       "995                                  1                            0   \n",
       "996                                  0                            0   \n",
       "997                                  0                            0   \n",
       "998                                  0                            0   \n",
       "999                                  0                            0   \n",
       "\n",
       "     transport_preference_Автомобиль  \\\n",
       "0                                  1   \n",
       "1                                  0   \n",
       "2                                  1   \n",
       "3                                  1   \n",
       "4                                  0   \n",
       "..                               ...   \n",
       "995                                0   \n",
       "996                                0   \n",
       "997                                0   \n",
       "998                                0   \n",
       "999                                1   \n",
       "\n",
       "     transport_preference_Космический корабль  \\\n",
       "0                                           0   \n",
       "1                                           0   \n",
       "2                                           0   \n",
       "3                                           0   \n",
       "4                                           0   \n",
       "..                                        ...   \n",
       "995                                         0   \n",
       "996                                         0   \n",
       "997                                         0   \n",
       "998                                         0   \n",
       "999                                         0   \n",
       "\n",
       "     transport_preference_Морской транспорт  transport_preference_Поезд  \\\n",
       "0                                         0                           0   \n",
       "1                                         0                           0   \n",
       "2                                         0                           0   \n",
       "3                                         0                           0   \n",
       "4                                         0                           0   \n",
       "..                                      ...                         ...   \n",
       "995                                       1                           0   \n",
       "996                                       0                           1   \n",
       "997                                       0                           0   \n",
       "998                                       0                           0   \n",
       "999                                       0                           0   \n",
       "\n",
       "     transport_preference_Самолет  \n",
       "0                               0  \n",
       "1                               1  \n",
       "2                               0  \n",
       "3                               0  \n",
       "4                               1  \n",
       "..                            ...  \n",
       "995                             0  \n",
       "996                             0  \n",
       "997                             1  \n",
       "998                             1  \n",
       "999                             0  \n",
       "\n",
       "[1000 rows x 25 columns]"
      ]
     },
     "execution_count": 52,
     "metadata": {},
     "output_type": "execute_result"
    }
   ],
   "source": [
    "trips_updated"
   ]
  },
  {
   "cell_type": "code",
   "execution_count": 62,
   "metadata": {},
   "outputs": [],
   "source": [
    "input_data = trips_updated.drop('target',axis=1)\n",
    "target = trips_updated.target"
   ]
  },
  {
   "cell_type": "code",
   "execution_count": 54,
   "metadata": {},
   "outputs": [],
   "source": [
    "from sklearn.ensemble import RandomForestClassifier"
   ]
  },
  {
   "cell_type": "code",
   "execution_count": 55,
   "metadata": {},
   "outputs": [],
   "source": [
    "model = RandomForestClassifier()"
   ]
  },
  {
   "cell_type": "code",
   "execution_count": 57,
   "metadata": {},
   "outputs": [
    {
     "data": {
      "text/plain": [
       "RandomForestClassifier(bootstrap=True, ccp_alpha=0.0, class_weight=None,\n",
       "                       criterion='gini', max_depth=None, max_features='auto',\n",
       "                       max_leaf_nodes=None, max_samples=None,\n",
       "                       min_impurity_decrease=0.0, min_impurity_split=None,\n",
       "                       min_samples_leaf=1, min_samples_split=2,\n",
       "                       min_weight_fraction_leaf=0.0, n_estimators=100,\n",
       "                       n_jobs=None, oob_score=False, random_state=None,\n",
       "                       verbose=0, warm_start=False)"
      ]
     },
     "execution_count": 57,
     "metadata": {},
     "output_type": "execute_result"
    }
   ],
   "source": [
    "model.fit(input_data,target)"
   ]
  },
  {
   "cell_type": "code",
   "execution_count": 60,
   "metadata": {
    "scrolled": true
   },
   "outputs": [
    {
     "data": {
      "text/plain": [
       "{'Unnamed: 0': 0,\n",
       " 'salary': 0,\n",
       " 'age': 0,\n",
       " 'family_members': 0,\n",
       " 'city_Екатеринбург': 0,\n",
       " 'city_Киев': 0,\n",
       " 'city_Краснодар': 0,\n",
       " 'city_Минск': 0,\n",
       " 'city_Москва': 0,\n",
       " 'city_Новосибирск': 0,\n",
       " 'city_Омск': 0,\n",
       " 'city_Петербург': 0,\n",
       " 'city_Томск': 0,\n",
       " 'city_Хабаровск': 0,\n",
       " 'city_Ярославль': 0,\n",
       " 'vacation_preference_Архитектура': 0,\n",
       " 'vacation_preference_Ночные клубы': 0,\n",
       " 'vacation_preference_Пляжный отдых': 0,\n",
       " 'vacation_preference_Шоппинг': 0,\n",
       " 'transport_preference_Автомобиль': 0,\n",
       " 'transport_preference_Космический корабль': 0,\n",
       " 'transport_preference_Морской транспорт': 0,\n",
       " 'transport_preference_Поезд': 0,\n",
       " 'transport_preference_Самолет': 0}"
      ]
     },
     "execution_count": 60,
     "metadata": {},
     "output_type": "execute_result"
    }
   ],
   "source": [
    "{col:0 for col in input_data.columns}"
   ]
  },
  {
   "cell_type": "code",
   "execution_count": 80,
   "metadata": {},
   "outputs": [],
   "source": [
    "may_sample = {'Unnamed: 0': 0,\n",
    " 'salary': 50000,\n",
    " 'age': 70,\n",
    " 'family_members': 1,\n",
    " 'city_Екатеринбург': 0,\n",
    " 'city_Киев': 0,\n",
    " 'city_Краснодар': 1,\n",
    " 'city_Минск': 0,\n",
    " 'city_Москва': 0,\n",
    " 'city_Новосибирск': 0,\n",
    " 'city_Омск': 0,\n",
    " 'city_Петербург': 0,\n",
    " 'city_Томск': 0,\n",
    " 'city_Хабаровск': 0,\n",
    " 'city_Ярославль': 0,\n",
    " 'vacation_preference_Архитектура': 0,\n",
    " 'vacation_preference_Ночные клубы': 0,\n",
    " 'vacation_preference_Пляжный отдых': 0,\n",
    " 'vacation_preference_Шоппинг': 1,\n",
    " 'transport_preference_Автомобиль': 0,\n",
    " 'transport_preference_Космический корабль': 0,\n",
    " 'transport_preference_Морской транспорт': 0,\n",
    " 'transport_preference_Поезд': 0,\n",
    " 'transport_preference_Самолет': 1}"
   ]
  },
  {
   "cell_type": "code",
   "execution_count": 81,
   "metadata": {},
   "outputs": [],
   "source": [
    "may_sample_dataframe = pandas.DataFrame(data=[may_sample])"
   ]
  },
  {
   "cell_type": "code",
   "execution_count": 73,
   "metadata": {},
   "outputs": [
    {
     "data": {
      "text/html": [
       "<div>\n",
       "<style scoped>\n",
       "    .dataframe tbody tr th:only-of-type {\n",
       "        vertical-align: middle;\n",
       "    }\n",
       "\n",
       "    .dataframe tbody tr th {\n",
       "        vertical-align: top;\n",
       "    }\n",
       "\n",
       "    .dataframe thead th {\n",
       "        text-align: right;\n",
       "    }\n",
       "</style>\n",
       "<table border=\"1\" class=\"dataframe\">\n",
       "  <thead>\n",
       "    <tr style=\"text-align: right;\">\n",
       "      <th></th>\n",
       "      <th>Unnamed: 0</th>\n",
       "      <th>salary</th>\n",
       "      <th>age</th>\n",
       "      <th>family_members</th>\n",
       "      <th>city_Екатеринбург</th>\n",
       "      <th>city_Киев</th>\n",
       "      <th>city_Краснодар</th>\n",
       "      <th>city_Минск</th>\n",
       "      <th>city_Москва</th>\n",
       "      <th>city_Новосибирск</th>\n",
       "      <th>...</th>\n",
       "      <th>city_Ярославль</th>\n",
       "      <th>vacation_preference_Архитектура</th>\n",
       "      <th>vacation_preference_Ночные клубы</th>\n",
       "      <th>vacation_preference_Пляжный отдых</th>\n",
       "      <th>vacation_preference_Шоппинг</th>\n",
       "      <th>transport_preference_Автомобиль</th>\n",
       "      <th>transport_preference_Космический корабль</th>\n",
       "      <th>transport_preference_Морской транспорт</th>\n",
       "      <th>transport_preference_Поезд</th>\n",
       "      <th>transport_preference_Самолет</th>\n",
       "    </tr>\n",
       "  </thead>\n",
       "  <tbody>\n",
       "    <tr>\n",
       "      <th>0</th>\n",
       "      <td>0</td>\n",
       "      <td>50000</td>\n",
       "      <td>30</td>\n",
       "      <td>1</td>\n",
       "      <td>1</td>\n",
       "      <td>0</td>\n",
       "      <td>0</td>\n",
       "      <td>0</td>\n",
       "      <td>0</td>\n",
       "      <td>0</td>\n",
       "      <td>...</td>\n",
       "      <td>0</td>\n",
       "      <td>0</td>\n",
       "      <td>0</td>\n",
       "      <td>0</td>\n",
       "      <td>1</td>\n",
       "      <td>0</td>\n",
       "      <td>0</td>\n",
       "      <td>0</td>\n",
       "      <td>0</td>\n",
       "      <td>1</td>\n",
       "    </tr>\n",
       "  </tbody>\n",
       "</table>\n",
       "<p>1 rows × 24 columns</p>\n",
       "</div>"
      ],
      "text/plain": [
       "   Unnamed: 0  salary  age  family_members  city_Екатеринбург  city_Киев  \\\n",
       "0           0   50000   30               1                  1          0   \n",
       "\n",
       "   city_Краснодар  city_Минск  city_Москва  city_Новосибирск  ...  \\\n",
       "0               0           0            0                 0  ...   \n",
       "\n",
       "   city_Ярославль  vacation_preference_Архитектура  \\\n",
       "0               0                                0   \n",
       "\n",
       "   vacation_preference_Ночные клубы  vacation_preference_Пляжный отдых  \\\n",
       "0                                 0                                  0   \n",
       "\n",
       "   vacation_preference_Шоппинг  transport_preference_Автомобиль  \\\n",
       "0                            1                                0   \n",
       "\n",
       "   transport_preference_Космический корабль  \\\n",
       "0                                         0   \n",
       "\n",
       "   transport_preference_Морской транспорт  transport_preference_Поезд  \\\n",
       "0                                       0                           0   \n",
       "\n",
       "   transport_preference_Самолет  \n",
       "0                             1  \n",
       "\n",
       "[1 rows x 24 columns]"
      ]
     },
     "execution_count": 73,
     "metadata": {},
     "output_type": "execute_result"
    }
   ],
   "source": [
    "may_sample_dataframe"
   ]
  },
  {
   "cell_type": "code",
   "execution_count": 82,
   "metadata": {},
   "outputs": [
    {
     "data": {
      "text/plain": [
       "array(['Tokio'], dtype=object)"
      ]
     },
     "execution_count": 82,
     "metadata": {},
     "output_type": "execute_result"
    }
   ],
   "source": [
    "model.predict(may_sample_dataframe)"
   ]
  }
 ],
 "metadata": {
  "kernelspec": {
   "display_name": "Python 3",
   "language": "python",
   "name": "python3"
  },
  "language_info": {
   "codemirror_mode": {
    "name": "ipython",
    "version": 3
   },
   "file_extension": ".py",
   "mimetype": "text/x-python",
   "name": "python",
   "nbconvert_exporter": "python",
   "pygments_lexer": "ipython3",
   "version": "3.7.6"
  }
 },
 "nbformat": 4,
 "nbformat_minor": 4
}
